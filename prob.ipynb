{
 "cells": [
  {
   "cell_type": "markdown",
   "metadata": {},
   "source": [
    "### Variables\n",
    "\n",
    "pg 460"
   ]
  },
  {
   "cell_type": "code",

   "execution_count": 1,
   "metadata": {},
   "outputs": [],

   "execution_count": 7,
   "metadata": {},
   "outputs": [
    {
     "name": "stdout",
     "output_type": "stream",
     "text": [
      "6.210439891204406\n"
     ]
    }
   ],

   "source": [
    "import numpy as np\n",
    "\n",
    "# battery specifications\n",
    "diameterBattery = 21.55  # mm\n",
    "lengthBattery = 70.15  # mm\n",
    "massBattery = 70  # g\n",
    "voltageBattery = 4.0  # V\n",
    "resistanceBattery = .015  # Ω (ohms)\n",
    "\n",
    "safeOpCurr = 45  # amps\n",
    "safeOpTemp = 75  # C\n",
    "\n",
    "# problem requirements\n",
    "reqAmps = 225\n",
    "reqVolts = 28\n",
    "\n",
    "# fan specifications\n",
    "fanDia = 140/1000  # mm -> m\n",
    "flowRate = 270/3600  # m^3/h -> m^3/s\n",
    "staticGagePressure = 65  # Pa\n",
    "\n",
    "# other specifications\n",
    "# properties of air pg 935\n",
    "airTemp = 25  # C\n",
    "p = 1.217  # kg/m^3\n",
    "cp = 1007  # J/KgK\n",
    "v = 14.82e-6  # m^2/s\n",
    "k = 26.3e3  # W/mK\n",
    "Pr = .707\n",
    "\n",
    "# ----------------Chosen Variables--------------\n",
    "# number and type of batteries\n",
    "numSeries = 1\n",
    "numParellel = 1\n",
    "\n",
    "# battery spacing\n",
    "sL = 100\n",
    "sT = 100\n",
    "\n",
    "# -----calculated values-----\n",
    "totalNumBatteries = numSeries * numParellel\n",
    "\n",
    "# power\n",
    "arrVoltage = voltageBattery*numSeries  # volts\n",
    "arrCurrent = reqAmps/numParellel  # amps\n",
    "arrPower = arrVoltage*arrCurrent  # W\n",
    "\n",
    "# box dimensions\n",
    "# spacing\n",
    "minCell_WallSpace = sT - diameterBattery\n",
    "\n",
    "height = (2*minCell_WallSpace) + diameterBattery + numParellel\n",
    "width = lengthBattery\n",
    "length = (2*minCell_WallSpace) + diameterBattery + numSeries\n",
    "\n",
    "# power density\n",
    "volPowerDensity = arrPower/(length*width*height)\n",
    "\n",
    "# pressure drop\n",

    "uMax = (sT/(sT-diameterBattery))*u\n",

    "print(uMax)\n",
    "# TODO -  calculate Re\n",
    "# TODO - calculate something else\n",
    "\n",
    "x = 5  # correction factor\n",
    "f = 5  # friction factor\n",
    "\n",
    "\n",
    "# deltaP = NL*x * ((row*u**2) / 2)*f"
   ]
  },
  {
   "cell_type": "markdown",
   "metadata": {},
   "source": [
    "Find best values for series and parallel based on the safe operating current "
   ]
  },
  {
   "cell_type": "code",
   "execution_count": null,
   "metadata": {},
   "outputs": [],
   "source": [
    "from scipy.optimize import minimize\n",
    "\n",
    "\n",
    "def objective_function(parameters):\n",
    "    x, y = parameters\n",
    "    return -1 * (x**2 + y**2)  # Note the negative sign for maximization\n",
    "\n",
    "\n",
    "initial_guess = [1, 1]\n",
    "\n",
    "result = minimize(objective_function, initial_guess)"
   ]
  }
 ],
 "metadata": {
  "kernelspec": {
   "display_name": "Python 3",
   "language": "python",
   "name": "python3"
  },
  "language_info": {
   "codemirror_mode": {
    "name": "ipython",
    "version": 3
   },
   "file_extension": ".py",
   "mimetype": "text/x-python",
   "name": "python",
   "nbconvert_exporter": "python",
   "pygments_lexer": "ipython3",
   "version": "3.10.4"
  }
 },
 "nbformat": 4,
 "nbformat_minor": 2
}
