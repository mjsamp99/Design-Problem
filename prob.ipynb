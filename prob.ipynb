{
 "cells": [
  {
   "cell_type": "markdown",
   "metadata": {},
   "source": [
    "### Variables\n",
    "\n",
    "pg 460"
   ]
  },
  {
   "cell_type": "code",
   "execution_count": 13,
   "metadata": {},
   "outputs": [
    {
     "name": "stdout",
     "output_type": "stream",
     "text": [
      "UMax 24.13696010193507\n",
      "Re 35097.94130881921\n",
      "PT 1.2529002320185614 ratio 1.0\n",
      "248.15542145983665 Pa\n"
     ]
    }
   ],
   "source": [
    "import numpy as np\n",
    "\n",
    "# battery specifications\n",
    "diameterBattery = 21.55/1000  # mm ->m\n",
    "lengthBattery = 70.15/1000  # mm -> m\n",
    "massBattery = 70/1000  # g -> kg\n",
    "voltageBattery = 4.0  # V\n",
    "resistanceBattery = .015  # Ω (ohms)\n",
    "\n",
    "safeOpCurr = 45  # amps\n",
    "safeOpTemp = 75  # C\n",
    "\n",
    "# problem requirements\n",
    "reqAmps = 225  # amps\n",
    "reqVolts = 28  # volts\n",
    "\n",
    "# fan specifications\n",
    "fanDia = 140/1000  # mm -> m\n",
    "flowRate = 270/3600  # m^3/h -> m^3/s\n",
    "staticGagePressure = 65  # Pa\n",
    "\n",
    "# other specifications\n",
    "# properties of air pg 935\n",
    "airTemp = 25  # C\n",
    "p = 1.217  # kg/m^3 #density\n",
    "cp = 1007  # J/KgK\n",
    "v = 14.82e-6  # m^2/s\n",
    "k = 26.3e3  # W/mK\n",
    "Pr = .707\n",
    "\n",
    "# ----------------Chosen Variables--------------\n",
    "# number and type of batteries\n",
    "numSeries = 1\n",
    "numParellel = 1\n",
    "\n",
    "# battery spacing\n",
    "sL = 27/1000  # mm ->m\n",
    "sT = 27/1000  # mm ->m\n",
    "sD = sT\n",
    "\n",
    "# -----calculated values-----\n",
    "totalNumBatteries = numSeries * numParellel\n",
    "\n",
    "# power\n",
    "arrVoltage = voltageBattery*numSeries  # volts\n",
    "arrCurrent = reqAmps/numParellel  # amps\n",
    "arrPower = arrVoltage*arrCurrent  # W\n",
    "arrHeatGen = arrVoltage**2 / (resistanceBattery*totalNumBatteries)\n",
    "\n",
    "\n",
    "# box dimensions\n",
    "# spacing\n",
    "minCell_WallSpace = sT - diameterBattery\n",
    "\n",
    "height = (2*minCell_WallSpace) + diameterBattery + numParellel\n",
    "width = lengthBattery\n",
    "length = (2*minCell_WallSpace) + diameterBattery + numSeries\n",
    "\n",
    "# power density\n",
    "volPowerDensity = arrPower/(length*width*height)\n",
    "\n",
    "# pressure drop\n",
    "# TODO - air speed of fan\n",
    "areaFan = ((np.pi*fanDia**2)/4)\n",
    "u = flowRate/areaFan\n",
    "uMax = (sT/(sT-diameterBattery))*u  # m/s\n",
    "print(\"UMax\", uMax)\n",
    "\n",
    "# TODO -  calculate Re\n",
    "Re = (diameterBattery*uMax) / v\n",
    "print(\"Re\", Re)\n",
    "# we looked up these values in the table 7.14\n",
    "x = 1  # correction factor\n",
    "f = .7  # friction factor\n",
    "NL = numSeries\n",
    "\n",
    "PT = sT/diameterBattery\n",
    "PL = sL/diameterBattery\n",
    "ratioPTPL = PT/PL\n",
    "print(\"PT\", PT, \"ratio\", ratioPTPL)\n",
    "\n",
    "\n",
    "deltaP = NL*x * ((p*uMax**2) / 2)*f\n",
    "print(deltaP, \"Pa\")"
   ]
  },
  {
   "cell_type": "markdown",
   "metadata": {},
   "source": [
    "## TODO\n",
    "\n",
    "\n",
    "decide the amount of things\n",
    "get the mean temperature of air coming out\n",
    "cell temperature funtion "
   ]
  }
 ],
 "metadata": {
  "kernelspec": {
   "display_name": "Python 3",
   "language": "python",
   "name": "python3"
  },
  "language_info": {
   "codemirror_mode": {
    "name": "ipython",
    "version": 3
   },
   "file_extension": ".py",
   "mimetype": "text/x-python",
   "name": "python",
   "nbconvert_exporter": "python",
   "pygments_lexer": "ipython3",
   "version": "3.10.1"
  }
 },
 "nbformat": 4,
 "nbformat_minor": 2
}
